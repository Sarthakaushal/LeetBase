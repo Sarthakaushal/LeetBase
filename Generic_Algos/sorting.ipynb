{
 "cells": [
  {
   "cell_type": "markdown",
   "metadata": {},
   "source": [
    "This notebook contains the implementation of different sorting algorithms."
   ]
  },
  {
   "cell_type": "code",
   "execution_count": 16,
   "metadata": {},
   "outputs": [],
   "source": [
    "import random"
   ]
  },
  {
   "cell_type": "code",
   "execution_count": 29,
   "metadata": {},
   "outputs": [],
   "source": [
    "A = random.sample(range(1, 50), 7)\n",
    "A_ = A.copy()\n",
    "A_.sort()"
   ]
  },
  {
   "cell_type": "markdown",
   "metadata": {},
   "source": [
    "## Inserion Sort"
   ]
  },
  {
   "cell_type": "code",
   "execution_count": 3,
   "metadata": {},
   "outputs": [
    {
     "name": "stdout",
     "output_type": "stream",
     "text": [
      "Array sorted!!\n"
     ]
    },
    {
     "data": {
      "text/plain": [
       "[5, 9, 12, 14, 29, 37, 49]"
      ]
     },
     "execution_count": 3,
     "metadata": {},
     "output_type": "execute_result"
    }
   ],
   "source": [
    "\n",
    "\n",
    "def insertionSort(A, A_):\n",
    "    for i in range(1, len(A)):\n",
    "        key = A[i]\n",
    "        j=i-1\n",
    "        while j>=0 and key<A[j]:# if previous ele is greater than next adj ele\n",
    "            A[j+1] = A[j]\n",
    "            j-=1\n",
    "        A[j+1] = key\n",
    "    if A == A_:\n",
    "        print(\"Array sorted!!\")\n",
    "    return A\n",
    "\n",
    "insertionSort(A,A_)\n"
   ]
  },
  {
   "cell_type": "markdown",
   "metadata": {},
   "source": [
    "## Quick Sort"
   ]
  },
  {
   "cell_type": "code",
   "execution_count": 26,
   "metadata": {},
   "outputs": [],
   "source": [
    "def partitions(nums, l, h):\n",
    "    pvt_idx = h\n",
    "    tracker =  l-1\n",
    "    for i in range(l, h):\n",
    "        if nums[i]<nums[pvt_idx]:\n",
    "            tracker+=1\n",
    "            # print(nums[i], nums[tracker])\n",
    "            nums[i], nums[tracker] = nums[tracker], nums[i]#swap\n",
    "    print(nums)\n",
    "    nums[tracker+1], nums[h] =  nums[h], nums[tracker+1]\n",
    "    return tracker+1"
   ]
  },
  {
   "cell_type": "code",
   "execution_count": 27,
   "metadata": {},
   "outputs": [],
   "source": [
    "def quick_sort(nums, l, h):\n",
    "    if l<h:\n",
    "        partition_idx = partitions(nums,l,h)\n",
    "        quick_sort(nums,l, partition_idx-1)\n",
    "        quick_sort(nums,partition_idx+1, h)\n",
    "    return nums"
   ]
  },
  {
   "cell_type": "code",
   "execution_count": 31,
   "metadata": {},
   "outputs": [],
   "source": [
    "A = random.sample(range(1, 50), 7)\n",
    "A_ = A.copy()\n",
    "A_.sort()"
   ]
  },
  {
   "cell_type": "code",
   "execution_count": 32,
   "metadata": {},
   "outputs": [
    {
     "name": "stdout",
     "output_type": "stream",
     "text": [
      "[28, 26, 36, 16, 18, 43, 30]\n",
      "[28, 26, 16, 18, 36, 43, 30]\n",
      "[16, 26, 28, 18, 30, 43, 36]\n",
      "[16, 18, 28, 26, 30, 43, 36]\n",
      "[16, 18, 26, 28, 30, 43, 36]\n",
      "Array sorted correctly!!\n"
     ]
    }
   ],
   "source": [
    "print(A)\n",
    "arr = quick_sort(A, 0, len(A)-1)\n",
    "if arr == A_:\n",
    "    print('Array sorted correctly!!')"
   ]
  }
 ],
 "metadata": {
  "kernelspec": {
   "display_name": "resML",
   "language": "python",
   "name": "python3"
  },
  "language_info": {
   "codemirror_mode": {
    "name": "ipython",
    "version": 3
   },
   "file_extension": ".py",
   "mimetype": "text/x-python",
   "name": "python",
   "nbconvert_exporter": "python",
   "pygments_lexer": "ipython3",
   "version": "3.10.14"
  }
 },
 "nbformat": 4,
 "nbformat_minor": 2
}
